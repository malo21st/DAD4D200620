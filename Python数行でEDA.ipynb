{
 "cells": [
  {
   "cell_type": "markdown",
   "metadata": {},
   "source": [
    "# DataFrameの準備　機械学習の定番　アヤメのデータセット"
   ]
  },
  {
   "cell_type": "code",
   "execution_count": null,
   "metadata": {},
   "outputs": [],
   "source": [
    "from sklearn import datasets\n",
    "import pandas as pd\n",
    " \n",
    "iris = datasets.load_iris()\n",
    "df_iris = pd.DataFrame(iris.data, columns=iris.feature_names)\n",
    "df_iris['target'] = iris.target_names[iris.target]\n",
    "df_iris.head()"
   ]
  },
  {
   "cell_type": "markdown",
   "metadata": {},
   "source": [
    "# 何はともあれ、DataFrame.describe(  )"
   ]
  },
  {
   "cell_type": "code",
   "execution_count": null,
   "metadata": {},
   "outputs": [],
   "source": [
    "df_iris.describe()"
   ]
  },
  {
   "cell_type": "markdown",
   "metadata": {},
   "source": [
    "# pandas_profiling.ProfileReport(DataFrame)"
   ]
  },
  {
   "cell_type": "code",
   "execution_count": null,
   "metadata": {
    "scrolled": false
   },
   "outputs": [],
   "source": [
    "import pandas_profiling as pdp  # pip install pandas-profiling\n",
    "\n",
    "pdp.ProfileReport(df_iris)"
   ]
  },
  {
   "cell_type": "markdown",
   "metadata": {},
   "source": [
    "# pixiedust   display(DataFrame)"
   ]
  },
  {
   "cell_type": "code",
   "execution_count": null,
   "metadata": {
    "pixiedust": {
     "displayParams": {
      "chartsize": "85",
      "color": "target",
      "handlerId": "scatterPlot",
      "keyFields": "petal length (cm)",
      "rendererId": "bokeh",
      "valueFields": "petal width (cm)"
     }
    }
   },
   "outputs": [],
   "source": [
    "import pixiedust  # pip install pixiedust\n",
    "\n",
    "display(df_iris)"
   ]
  },
  {
   "cell_type": "markdown",
   "metadata": {},
   "source": [
    "# plotly.express"
   ]
  },
  {
   "cell_type": "code",
   "execution_count": null,
   "metadata": {},
   "outputs": [],
   "source": [
    "import plotly.express as px\n",
    "\n",
    "fig = px.scatter(df_iris, x='petal length (cm)', y='petal width (cm)', color='target')\n",
    "fig"
   ]
  },
  {
   "cell_type": "code",
   "execution_count": null,
   "metadata": {},
   "outputs": [],
   "source": [
    "fig = px.scatter_matrix(df_iris, color='target', width=800, height=700,\n",
    "                        dimensions=['sepal length (cm)', 'sepal width (cm)', \n",
    "                                    'petal length (cm)','petal width (cm)'])\n",
    "fig"
   ]
  },
  {
   "cell_type": "markdown",
   "metadata": {},
   "source": [
    "# pixiedust   display(DataFrame)　緯度・経度"
   ]
  },
  {
   "cell_type": "code",
   "execution_count": null,
   "metadata": {},
   "outputs": [],
   "source": [
    "'''\n",
    "ＧＴＦＳ（静的データ）の取得\n",
    "'''\n",
    "\n",
    "import pandas as pd\n",
    "\n",
    "df_trips = pd.read_csv('gtfs/trips.txt')\n",
    "df_trips = df_trips.dropna(how='all', axis=1)\n",
    "\n",
    "df_stop_times = pd.read_csv('gtfs/stop_times.txt')\n",
    "df_stop_times = df_stop_times.dropna(how='all', axis=1)\n",
    "\n",
    "df_stops = pd.read_csv('gtfs/stops.txt')\n",
    "df_stops = df_stops.dropna(how='all', axis=1)\n",
    "\n",
    "df_routes = pd.read_csv('gtfs/routes.txt')\n",
    "df_routes = df_routes.dropna(how='all', axis=1)\n",
    "\n",
    "df_shapes = pd.read_csv('gtfs/shapes.txt')\n",
    "df_shapes = df_shapes.dropna(how='all', axis=1)\n",
    "\n",
    "'''\n",
    "ＧＴＦＳ（静的データ）の処理\n",
    "'''\n",
    "\n",
    "df_route = pd.merge(df_trips, df_routes, on='route_id') \n",
    "df_bus = df_route.drop_duplicates(subset='trip_id')\n",
    "\n",
    "df_bus_stop = pd.merge(df_stop_times, df_stops, on='stop_id')\n",
    "\n",
    "sr_shape_id = df_shapes.shape_id.unique()\n",
    "\n",
    "df_all_routes = pd.DataFrame(index=[], columns=['shape_id', 'shapes'])\n",
    "for shape_id in sr_shape_id:\n",
    "    df_shape = df_shapes[df_shapes.shape_id==shape_id]\n",
    "    tpl_shape = tuple(zip(df_shape.shape_pt_lon, df_shape.shape_pt_lat))\n",
    "    sr_shape = pd.Series([shape_id, tpl_shape], index=df_all_routes.columns)\n",
    "    df_all_routes = df_all_routes.append(sr_shape, ignore_index=True) # 全路線データ\n",
    "\n",
    "'''\n",
    "ＧＴＦＳ-RT（動的データ）の取得\n",
    "'''\n",
    "\n",
    "from google.transit import gtfs_realtime_pb2 # pip install --upgrade gtfs-realtime-bindings\n",
    "import requests\n",
    "from retry import retry\n",
    "\n",
    "COLS = ['trip_id',\n",
    "        'vehicle',\n",
    "        'timestamp',\n",
    "        'stop_sq',\n",
    "        'status',\n",
    "        'latitude',\n",
    "        'longitude']\n",
    "\n",
    "@retry(tries=3, delay=2, backoff=2)\n",
    "def get_realtime_data():\n",
    "    feed = gtfs_realtime_pb2.FeedMessage()\n",
    "    response = requests.get('http://opendata.sagabus.info/vehicle.pb')\n",
    "    feed.ParseFromString(response.content)\n",
    "\n",
    "    df_result = pd.DataFrame(columns=COLS)\n",
    "\n",
    "    for entity in feed.entity:\n",
    "        if entity.HasField('vehicle'):\n",
    "            sr_data = pd.Series([\n",
    "                entity.vehicle.trip.trip_id,\n",
    "                entity.vehicle.vehicle.id,\n",
    "                entity.vehicle.timestamp,\n",
    "                entity.vehicle.current_stop_sequence,\n",
    "                entity.vehicle.current_status,\n",
    "                entity.vehicle.position.latitude,\n",
    "                entity.vehicle.position.longitude \n",
    "            ], index=df_result.columns)\n",
    "            df_result = df_result.append(sr_data, ignore_index=True)          \n",
    "    return df_result # 運行中のバスデータ\n",
    "\n",
    "df_vehicle = get_realtime_data()\n",
    "df_bus = pd.merge(df_vehicle, df_bus, on='trip_id') # 運行中のバスデータ\n"
   ]
  },
  {
   "cell_type": "code",
   "execution_count": null,
   "metadata": {
    "pixiedust": {
     "displayParams": {
      "basemap": "dark-v9",
      "binsize": "20",
      "chartsize": "100",
      "coloropacity": "100",
      "colorrampname": "Light to Dark Red",
      "handlerId": "mapView",
      "keyFields": "latitude,longitude",
      "kind": "simple-cluster",
      "legend": "true",
      "mapboxtoken": "pk.eyJ1IjoibWFwYm94IiwiYSI6ImNpejY4M29iazA2Z2gycXA4N2pmbDZmangifQ.-g_vE53SD2WrJ6tFX7QHmA",
      "numbins": "8",
      "rendererId": "mapbox",
      "rowCount": "100",
      "title": "佐賀のバスの現在位置",
      "valueFields": "trip_id,trip_headsign"
     }
    },
    "scrolled": false
   },
   "outputs": [],
   "source": [
    "import pixiedust\n",
    "\n",
    "display(df_bus)"
   ]
  },
  {
   "cell_type": "markdown",
   "metadata": {},
   "source": [
    "# ご清聴ありがとうございました\n",
    "\n",
    "## 本日の資料：https://github.com/malo21st/DAD4D200620"
   ]
  }
 ],
 "metadata": {
  "kernelspec": {
   "display_name": "Python 3",
   "language": "python",
   "name": "python3"
  },
  "language_info": {
   "codemirror_mode": {
    "name": "ipython",
    "version": 3
   },
   "file_extension": ".py",
   "mimetype": "text/x-python",
   "name": "python",
   "nbconvert_exporter": "python",
   "pygments_lexer": "ipython3",
   "version": "3.7.1"
  }
 },
 "nbformat": 4,
 "nbformat_minor": 2
}
